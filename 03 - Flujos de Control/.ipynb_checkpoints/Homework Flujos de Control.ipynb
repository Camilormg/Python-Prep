{
 "cells": [
  {
   "cell_type": "markdown",
   "metadata": {},
   "source": [
    "1) Crear una variable que contenga un elemento del conjunto de números enteros y luego imprimir por pantalla si es mayor o menor a cero\n"
   ]
  },
  {
   "cell_type": "code",
   "execution_count": 6,
   "metadata": {},
   "outputs": [
    {
     "name": "stdout",
     "output_type": "stream",
     "text": [
      "Es menor a cero\n"
     ]
    }
   ],
   "source": [
    "mi_variable = -5\n",
    "if mi_variable < 0:\n",
    "    print(\"Es menor a cero\")\n",
    "if mi_variable == 0:\n",
    "    print(\"Es igual a cero\")\n",
    "elif mi_variable > 0:\n",
    "    print(\"Es mayor a cero\")"
   ]
  },
  {
   "attachments": {},
   "cell_type": "markdown",
   "metadata": {},
   "source": [
    "2) Crear dos variables y un condicional que informe si son del mismo tipo de dato"
   ]
  },
  {
   "cell_type": "code",
   "execution_count": 8,
   "metadata": {},
   "outputs": [
    {
     "name": "stdout",
     "output_type": "stream",
     "text": [
      "el dato <class 'int'> es diferente del dato <class 'str'>\n"
     ]
    }
   ],
   "source": [
    "a = 5\n",
    "b = \"hola\"\n",
    "if type(a) == type(b):\n",
    "    print(\"los datos son\" , type(a))\n",
    "if type(a) != type(b):\n",
    "    print(\"el dato\", type(a) , \"es diferente del dato\" , type(b))"
   ]
  },
  {
   "cell_type": "markdown",
   "metadata": {},
   "source": [
    "3) Para los valores enteros del 1 al 20, imprimir por pantalla si es par o impar\n"
   ]
  },
  {
   "cell_type": "code",
   "execution_count": 12,
   "metadata": {},
   "outputs": [
    {
     "name": "stdout",
     "output_type": "stream",
     "text": [
      "el numero 1 es impar\n",
      "el numero 2 es par\n",
      "el numero 3 es impar\n",
      "el numero 4 es par\n",
      "el numero 5 es impar\n",
      "el numero 6 es par\n",
      "el numero 7 es impar\n",
      "el numero 8 es par\n",
      "el numero 9 es impar\n",
      "el numero 10 es par\n",
      "el numero 11 es impar\n",
      "el numero 12 es par\n",
      "el numero 13 es impar\n",
      "el numero 14 es par\n",
      "el numero 15 es impar\n",
      "el numero 16 es par\n",
      "el numero 17 es impar\n",
      "el numero 18 es par\n",
      "el numero 19 es impar\n",
      "el numero 20 es par\n"
     ]
    }
   ],
   "source": [
    "for n in range(1,21):\n",
    "    if n % 2 == 0:\n",
    "        print(\"el numero\" , n , \"es par\")\n",
    "    if n % 2 != 0:\n",
    "        print(\"el numero\", n , \"es impar\")"
   ]
  },
  {
   "attachments": {},
   "cell_type": "markdown",
   "metadata": {},
   "source": [
    "4) En un ciclo for mostrar para los valores entre 0 y 5 el resultado de elevarlo a la potencia igual a 3\n"
   ]
  },
  {
   "cell_type": "code",
   "execution_count": 13,
   "metadata": {},
   "outputs": [
    {
     "name": "stdout",
     "output_type": "stream",
     "text": [
      "1\n",
      "8\n",
      "27\n",
      "64\n"
     ]
    }
   ],
   "source": [
    "for n in range(1,5):\n",
    "    print(n**3)"
   ]
  },
  {
   "attachments": {},
   "cell_type": "markdown",
   "metadata": {},
   "source": [
    "5) Crear una variable que contenga un número entero y realizar un ciclo for la misma cantidad de ciclos\n"
   ]
  },
  {
   "cell_type": "code",
   "execution_count": 14,
   "metadata": {},
   "outputs": [
    {
     "name": "stdout",
     "output_type": "stream",
     "text": [
      "0\n",
      "1\n",
      "2\n",
      "3\n",
      "4\n"
     ]
    }
   ],
   "source": [
    "n = 5\n",
    "for n in range(0,n):\n",
    "    print(n)"
   ]
  },
  {
   "attachments": {},
   "cell_type": "markdown",
   "metadata": {},
   "source": [
    "6) Utilizar un ciclo while para realizar el factorial de un número guardado en una variable, sólo si la variable contiene un número entero mayor a 0\n"
   ]
  },
  {
   "cell_type": "code",
   "execution_count": 36,
   "metadata": {},
   "outputs": [
    {
     "name": "stdout",
     "output_type": "stream",
     "text": [
      "el factorial es 1307674368000\n"
     ]
    }
   ],
   "source": [
    "numero = 15\n",
    "if type(numero) == int: \n",
    "    factorial = numero\n",
    "    if numero > 0:\n",
    "        while numero > 2:\n",
    "            numero = numero - 1\n",
    "            factorial = factorial * numero\n",
    "        print(\"el factorial es\", factorial)\n",
    "    else:\n",
    "        print(\"el numero tiene que ser positivo\")\n",
    "else:\n",
    "    print(\"el numero no es un entero\")\n"
   ]
  },
  {
   "cell_type": "markdown",
   "metadata": {},
   "source": [
    "7) Crear un ciclo for dentro de un ciclo while\n"
   ]
  },
  {
   "cell_type": "code",
   "execution_count": 50,
   "metadata": {},
   "outputs": [
    {
     "name": "stdout",
     "output_type": "stream",
     "text": [
      "ciclo for numero 1\n",
      "ciclo while numero 2\n",
      "ciclo for numero 1\n",
      "ciclo while numero 3\n",
      "ciclo for numero 2\n",
      "ciclo while numero 3\n",
      "ciclo for numero 1\n",
      "ciclo while numero 4\n",
      "ciclo for numero 2\n",
      "ciclo while numero 4\n",
      "ciclo for numero 3\n",
      "ciclo while numero 4\n",
      "ciclo for numero 1\n",
      "ciclo while numero 5\n",
      "ciclo for numero 2\n",
      "ciclo while numero 5\n",
      "ciclo for numero 3\n",
      "ciclo while numero 5\n",
      "ciclo for numero 4\n",
      "ciclo while numero 5\n"
     ]
    }
   ],
   "source": [
    "n = 0\n",
    "while n < 5:\n",
    "    n = n + 1\n",
    "    for i in range(1,n):\n",
    "        print(\"ciclo for numero \" + str(i))\n",
    "        print(\"ciclo while numero \" + str(n))\n"
   ]
  },
  {
   "cell_type": "markdown",
   "metadata": {},
   "source": [
    "8) Crear un ciclo while dentro de un ciclo for\n"
   ]
  },
  {
   "cell_type": "code",
   "execution_count": 88,
   "metadata": {},
   "outputs": [
    {
     "name": "stdout",
     "output_type": "stream",
     "text": [
      "cliclo for numero 10\n",
      "ciclo while numero 5\n",
      "cliclo for numero 10\n",
      "ciclo while numero 6\n",
      "cliclo for numero 10\n",
      "ciclo while numero 5\n",
      "cliclo for numero 10\n",
      "ciclo while numero 7\n",
      "cliclo for numero 10\n",
      "ciclo while numero 6\n",
      "cliclo for numero 10\n",
      "ciclo while numero 5\n",
      "cliclo for numero 10\n",
      "ciclo while numero 8\n",
      "cliclo for numero 10\n",
      "ciclo while numero 7\n",
      "cliclo for numero 10\n",
      "ciclo while numero 6\n",
      "cliclo for numero 10\n",
      "ciclo while numero 5\n"
     ]
    }
   ],
   "source": [
    "n = 10\n",
    "for i in range(1,n):\n",
    "    while(i > 5):\n",
    "        i -= 1   \n",
    "        print(\"cliclo for numero \" + str(n))\n",
    "        print(\"ciclo while numero \" +str(i))"
   ]
  },
  {
   "cell_type": "markdown",
   "metadata": {},
   "source": [
    "9) Imprimir los números primos existentes entre 0 y 30\n"
   ]
  },
  {
   "cell_type": "code",
   "execution_count": 116,
   "metadata": {},
   "outputs": [
    {
     "name": "stdout",
     "output_type": "stream",
     "text": [
      "0\n",
      "1\n",
      "2\n",
      "3\n",
      "5\n",
      "7\n",
      "11\n",
      "13\n",
      "17\n",
      "19\n",
      "23\n",
      "29\n"
     ]
    }
   ],
   "source": [
    "n = 0\n",
    "tope = 30\n",
    "es_primo = True\n",
    "while(n < tope):\n",
    "    for div in range(2,n):\n",
    "        if (n % div == 0):\n",
    "            es_primo = False\n",
    "    if es_primo:\n",
    "        print(n)\n",
    "    else:\n",
    "        es_primo =True\n",
    "    n = n + 1\n",
    "\n",
    "    "
   ]
  },
  {
   "attachments": {},
   "cell_type": "markdown",
   "metadata": {},
   "source": [
    "10) ¿Se puede mejorar el proceso del punto 9? Utilizar las sentencias break y/ó continue para tal fin\n"
   ]
  },
  {
   "cell_type": "code",
   "execution_count": 131,
   "metadata": {},
   "outputs": [
    {
     "name": "stdout",
     "output_type": "stream",
     "text": [
      "0\n",
      "1\n",
      "2\n",
      "3\n",
      "5\n",
      "7\n",
      "11\n",
      "13\n",
      "17\n",
      "19\n",
      "23\n",
      "29\n"
     ]
    }
   ],
   "source": [
    "\n",
    "n = 0\n",
    "tope = 30\n",
    "es_primo = True\n",
    "while(n < tope):\n",
    "    for div in range(2,n):\n",
    "        if (n % div == 0):\n",
    "            es_primo = False\n",
    "            break\n",
    "    if es_primo:\n",
    "        print(n)\n",
    "    else:\n",
    "        es_primo =True\n",
    "    n = n + 1\n"
   ]
  },
  {
   "attachments": {},
   "cell_type": "markdown",
   "metadata": {},
   "source": [
    "11) En los puntos 9 y 10, se diseño un código que encuentra números primos y además se lo optimizó. ¿Es posible saber en qué medida se optimizó?\n"
   ]
  },
  {
   "cell_type": "code",
   "execution_count": 132,
   "metadata": {},
   "outputs": [
    {
     "name": "stdout",
     "output_type": "stream",
     "text": [
      "0\n",
      "1\n",
      "2\n",
      "3\n",
      "5\n",
      "7\n",
      "11\n",
      "13\n",
      "17\n",
      "19\n",
      "23\n",
      "29\n",
      "cantidad de ciclos sin break 378\n"
     ]
    }
   ],
   "source": [
    "ciclos_sinbreak = 0\n",
    "n = 0\n",
    "tope = 30\n",
    "es_primo = True\n",
    "while(n < tope):\n",
    "    for div in range(2,n):\n",
    "        ciclos_sinbreak += 1\n",
    "        if (n % div == 0):\n",
    "            es_primo = False\n",
    "    if es_primo:\n",
    "        print(n)\n",
    "    else:\n",
    "        es_primo =True\n",
    "    n = n + 1\n",
    "print(\"cantidad de ciclos sin break \" + str(ciclos_sinbreak))"
   ]
  },
  {
   "cell_type": "code",
   "execution_count": 133,
   "metadata": {},
   "outputs": [
    {
     "name": "stdout",
     "output_type": "stream",
     "text": [
      "0\n",
      "1\n",
      "2\n",
      "3\n",
      "5\n",
      "7\n",
      "11\n",
      "13\n",
      "17\n",
      "19\n",
      "23\n",
      "29\n",
      "cantidad de ciclos con el break 134\n",
      " se optimizo un 35.44973544973545% de ciclos con el break\n"
     ]
    }
   ],
   "source": [
    "ciclos_con_break = 0\n",
    "n = 0\n",
    "tope = 30\n",
    "es_primo = True\n",
    "while(n < tope):\n",
    "    for div in range(2,n):\n",
    "        ciclos_con_break += 1\n",
    "        if (n % div == 0):\n",
    "            es_primo = False\n",
    "            break\n",
    "    if es_primo:\n",
    "        print(n)\n",
    "    else:\n",
    "        es_primo =True\n",
    "    n = n + 1\n",
    "print(\"cantidad de ciclos con el break \" + str(ciclos_con_break))\n",
    "print(\" se optimizo un \" + str((ciclos_con_break/ciclos_sinbreak)*100) + \"% de ciclos con el break\" )"
   ]
  },
  {
   "cell_type": "markdown",
   "metadata": {},
   "source": [
    "12) Si la cantidad de números que se evalúa es mayor a treinta, esa optimización crece?\n"
   ]
  },
  {
   "cell_type": "code",
   "execution_count": 134,
   "metadata": {},
   "outputs": [
    {
     "name": "stdout",
     "output_type": "stream",
     "text": [
      "0\n",
      "1\n",
      "2\n",
      "3\n",
      "5\n",
      "7\n",
      "11\n",
      "13\n",
      "17\n",
      "19\n",
      "23\n",
      "29\n",
      "31\n",
      "37\n",
      "41\n",
      "43\n",
      "47\n",
      "53\n",
      "59\n",
      "61\n",
      "67\n",
      "71\n",
      "73\n",
      "79\n",
      "83\n",
      "89\n",
      "97\n",
      "cantidad de ciclos sin break 4753\n"
     ]
    }
   ],
   "source": [
    "ciclos_sinbreak = 0\n",
    "n = 0\n",
    "tope = 100\n",
    "es_primo = True\n",
    "while(n < tope):\n",
    "    for div in range(2,n):\n",
    "        ciclos_sinbreak += 1\n",
    "        if (n % div == 0):\n",
    "            es_primo = False\n",
    "    if es_primo:\n",
    "        print(n)\n",
    "    else:\n",
    "        es_primo =True\n",
    "    n = n + 1\n",
    "print(\"cantidad de ciclos sin break \" + str(ciclos_sinbreak)) "
   ]
  },
  {
   "cell_type": "code",
   "execution_count": 135,
   "metadata": {},
   "outputs": [
    {
     "name": "stdout",
     "output_type": "stream",
     "text": [
      "0\n",
      "1\n",
      "2\n",
      "3\n",
      "5\n",
      "7\n",
      "11\n",
      "13\n",
      "17\n",
      "19\n",
      "23\n",
      "29\n",
      "31\n",
      "37\n",
      "41\n",
      "43\n",
      "47\n",
      "53\n",
      "59\n",
      "61\n",
      "67\n",
      "71\n",
      "73\n",
      "79\n",
      "83\n",
      "89\n",
      "97\n",
      "cantidad de ciclos con el break 1132\n",
      " se optimizo un 23.81653692404797% de ciclos con el break\n"
     ]
    }
   ],
   "source": [
    "ciclos_con_break = 0\n",
    "n = 0\n",
    "tope = 100\n",
    "es_primo = True\n",
    "while(n < tope):\n",
    "    for div in range(2,n):\n",
    "        ciclos_con_break += 1\n",
    "        if (n % div == 0):\n",
    "            es_primo = False\n",
    "            break\n",
    "    if es_primo:\n",
    "        print(n)\n",
    "    else:\n",
    "        es_primo =True\n",
    "    n = n + 1\n",
    "print(\"cantidad de ciclos con el break \" + str(ciclos_con_break))\n",
    "print(\" se optimizo un \" + str((ciclos_con_break/ciclos_sinbreak)*100) + \"% de ciclos con el break\" )"
   ]
  },
  {
   "attachments": {},
   "cell_type": "markdown",
   "metadata": {},
   "source": [
    "13) Aplicando continue, armar un ciclo while que solo imprima los valores divisibles por 12, dentro del rango de números de 100 a 300\n"
   ]
  },
  {
   "cell_type": "code",
   "execution_count": 139,
   "metadata": {},
   "outputs": [
    {
     "name": "stdout",
     "output_type": "stream",
     "text": [
      "108 es divisible por 12\n",
      "120 es divisible por 12\n",
      "132 es divisible por 12\n",
      "144 es divisible por 12\n",
      "156 es divisible por 12\n",
      "168 es divisible por 12\n",
      "180 es divisible por 12\n",
      "192 es divisible por 12\n",
      "204 es divisible por 12\n",
      "216 es divisible por 12\n",
      "228 es divisible por 12\n",
      "240 es divisible por 12\n",
      "252 es divisible por 12\n",
      "264 es divisible por 12\n",
      "276 es divisible por 12\n",
      "288 es divisible por 12\n",
      "300 es divisible por 12\n"
     ]
    }
   ],
   "source": [
    "n = 99 \n",
    "while n <= 300:\n",
    "    if n % 12 == 0:\n",
    "        print(n , \"es divisible por 12\")\n",
    "    n = n + 1\n"
   ]
  },
  {
   "attachments": {},
   "cell_type": "markdown",
   "metadata": {},
   "source": [
    "14) Utilizar la función **input()** que permite hacer ingresos por teclado, para encontrar números primos y dar la opción al usario de buscar el siguiente"
   ]
  },
  {
   "cell_type": "code",
   "execution_count": 8,
   "metadata": {},
   "outputs": [
    {
     "name": "stdout",
     "output_type": "stream",
     "text": [
      "1\n",
      "¿Desea encontrar el siguiente numero primo?\n",
      "2\n",
      "¿Desea encontrar el siguiente numero primo?\n",
      "3\n",
      "¿Desea encontrar el siguiente numero primo?\n",
      "5\n",
      "¿Desea encontrar el siguiente numero primo?\n",
      "7\n",
      "¿Desea encontrar el siguiente numero primo?\n",
      "11\n",
      "¿Desea encontrar el siguiente numero primo?\n",
      "13\n",
      "¿Desea encontrar el siguiente numero primo?\n",
      "17\n",
      "¿Desea encontrar el siguiente numero primo?\n",
      "19\n",
      "¿Desea encontrar el siguiente numero primo?\n",
      "23\n",
      "¿Desea encontrar el siguiente numero primo?\n",
      "29\n",
      "¿Desea encontrar el siguiente numero primo?\n",
      "31\n",
      "¿Desea encontrar el siguiente numero primo?\n",
      "37\n",
      "¿Desea encontrar el siguiente numero primo?\n",
      "41\n",
      "¿Desea encontrar el siguiente numero primo?\n",
      "43\n",
      "¿Desea encontrar el siguiente numero primo?\n",
      "47\n",
      "¿Desea encontrar el siguiente numero primo?\n",
      "Se finaliza el proceso\n"
     ]
    }
   ],
   "source": [
    "n = 1\n",
    "sigue = 1\n",
    "es_primo = True\n",
    "while(sigue == 1):\n",
    "    for div in range(2,n):\n",
    "        if (n % div == 0):\n",
    "            es_primo = False\n",
    "            break\n",
    "    if es_primo:\n",
    "        print(n)\n",
    "        print(\"¿Desea encontrar el siguiente numero primo?\")\n",
    "        if (input() != \"1\"):\n",
    "            print(\"Se finaliza el proceso\")\n",
    "            break\n",
    "    else:\n",
    "        es_primo =True\n",
    "    n = n + 1"
   ]
  },
  {
   "cell_type": "markdown",
   "metadata": {},
   "source": [
    "15) Crear un ciclo while que encuentre dentro del rango de 100 a 300 el primer número divisible por 3 y además múltiplo de 6"
   ]
  },
  {
   "cell_type": "code",
   "execution_count": 1,
   "metadata": {},
   "outputs": [
    {
     "name": "stdout",
     "output_type": "stream",
     "text": [
      "el numero es 102\n"
     ]
    }
   ],
   "source": [
    "n = 99\n",
    "while n <= 300:\n",
    "    if n % 6 == 0:\n",
    "        print(\"el numero es \" + str(n))\n",
    "        break\n",
    "    n = n + 1"
   ]
  }
 ],
 "metadata": {
  "kernelspec": {
   "display_name": "Python 3",
   "language": "python",
   "name": "python3"
  },
  "language_info": {
   "codemirror_mode": {
    "name": "ipython",
    "version": 3
   },
   "file_extension": ".py",
   "mimetype": "text/x-python",
   "name": "python",
   "nbconvert_exporter": "python",
   "pygments_lexer": "ipython3",
   "version": "3.11.1"
  },
  "orig_nbformat": 4,
  "vscode": {
   "interpreter": {
    "hash": "8144b067747feb60e3a835fef52e6946453c4412c653ea5665ba429b745d666c"
   }
  }
 },
 "nbformat": 4,
 "nbformat_minor": 2
}
